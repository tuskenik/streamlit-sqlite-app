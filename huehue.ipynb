{
 "cells": [
  {
   "cell_type": "code",
   "id": "initial_id",
   "metadata": {
    "collapsed": true,
    "ExecuteTime": {
     "end_time": "2025-05-08T09:05:57.180798Z",
     "start_time": "2025-05-08T09:05:57.174345Z"
    }
   },
   "source": "print(\"hello\")",
   "outputs": [
    {
     "name": "stdout",
     "output_type": "stream",
     "text": [
      "hello\n"
     ]
    }
   ],
   "execution_count": 17
  },
  {
   "metadata": {
    "ExecuteTime": {
     "end_time": "2025-05-08T09:04:34.780904Z",
     "start_time": "2025-05-08T09:04:34.775987Z"
    }
   },
   "cell_type": "code",
   "source": "print(\"XD\")",
   "id": "a3d77ee7a0cea105",
   "outputs": [
    {
     "name": "stdout",
     "output_type": "stream",
     "text": [
      "XD\n"
     ]
    }
   ],
   "execution_count": 14
  },
  {
   "metadata": {
    "ExecuteTime": {
     "end_time": "2025-05-08T08:50:07.529130Z",
     "start_time": "2025-05-08T08:49:58.991674Z"
    }
   },
   "cell_type": "code",
   "source": [
    "import pandas as pd\n",
    "from ydata_profiling import ProfileReport\n",
    "\n",
    "df = pd.read_csv(\"titanic_train.csv\")\n",
    "profile = ProfileReport(df, title=\"Raport Profilowania\", explorative=True)\n",
    "profile.to_file(\"raport.html\")"
   ],
   "id": "b84b16dfcc0f6417",
   "outputs": [
    {
     "name": "stderr",
     "output_type": "stream",
     "text": [
      "Summarize dataset:  35%|███▌      | 6/17 [00:00<00:00, 56.69it/s, Describe variable: Embarked]\n",
      "100%|██████████| 12/12 [00:00<00:00, 375.56it/s]00:00, 60.44it/s, Describe variable: Embarked]\n",
      "Summarize dataset: 100%|██████████| 47/47 [00:03<00:00, 15.46it/s, Completed]                       \n",
      "Generate report structure: 100%|██████████| 1/1 [00:03<00:00,  3.71s/it]\n",
      "Render HTML: 100%|██████████| 1/1 [00:01<00:00,  1.34s/it]\n",
      "Export report to file: 100%|██████████| 1/1 [00:00<00:00, 105.15it/s]\n"
     ]
    }
   ],
   "execution_count": 6
  },
  {
   "metadata": {
    "ExecuteTime": {
     "end_time": "2025-05-08T08:30:39.560885Z",
     "start_time": "2025-05-08T08:29:46.085226Z"
    }
   },
   "cell_type": "code",
   "source": "pip install ydata-profiling",
   "id": "d70bd6be2c3086c",
   "outputs": [
    {
     "name": "stdout",
     "output_type": "stream",
     "text": [
      "Defaulting to user installation because normal site-packages is not writeable\r\n",
      "Collecting ydata-profiling\r\n",
      "  Downloading ydata_profiling-4.16.1-py2.py3-none-any.whl.metadata (22 kB)\r\n",
      "Collecting scipy<1.16,>=1.4.1 (from ydata-profiling)\r\n",
      "  Downloading scipy-1.13.1-cp39-cp39-macosx_12_0_arm64.whl.metadata (60 kB)\r\n",
      "Requirement already satisfied: pandas!=1.4.0,<3.0,>1.1 in /Users/anitaholubowicz/Library/Python/3.9/lib/python/site-packages (from ydata-profiling) (2.2.2)\r\n",
      "Collecting matplotlib<=3.10,>=3.5 (from ydata-profiling)\r\n",
      "  Downloading matplotlib-3.9.4-cp39-cp39-macosx_11_0_arm64.whl.metadata (11 kB)\r\n",
      "Collecting pydantic>=2 (from ydata-profiling)\r\n",
      "  Downloading pydantic-2.11.4-py3-none-any.whl.metadata (66 kB)\r\n",
      "Requirement already satisfied: PyYAML<6.1,>=5.0.0 in /Users/anitaholubowicz/Library/Python/3.9/lib/python/site-packages (from ydata-profiling) (6.0.2)\r\n",
      "Requirement already satisfied: jinja2<3.2,>=2.11.1 in /Users/anitaholubowicz/Library/Python/3.9/lib/python/site-packages (from ydata-profiling) (3.1.6)\r\n",
      "Collecting visions<0.8.2,>=0.7.5 (from visions[type_image_path]<0.8.2,>=0.7.5->ydata-profiling)\r\n",
      "  Downloading visions-0.8.1-py3-none-any.whl.metadata (11 kB)\r\n",
      "Requirement already satisfied: numpy<2.2,>=1.16.0 in /Users/anitaholubowicz/Library/Python/3.9/lib/python/site-packages (from ydata-profiling) (1.26.4)\r\n",
      "Collecting htmlmin==0.1.12 (from ydata-profiling)\r\n",
      "  Downloading htmlmin-0.1.12.tar.gz (19 kB)\r\n",
      "  Preparing metadata (setup.py) ... \u001B[?25ldone\r\n",
      "\u001B[?25hCollecting phik<0.13,>=0.11.1 (from ydata-profiling)\r\n",
      "  Downloading phik-0.12.4-cp39-cp39-macosx_11_0_arm64.whl.metadata (5.6 kB)\r\n",
      "Requirement already satisfied: requests<3,>=2.24.0 in /Users/anitaholubowicz/Library/Python/3.9/lib/python/site-packages (from ydata-profiling) (2.32.3)\r\n",
      "Collecting tqdm<5,>=4.48.2 (from ydata-profiling)\r\n",
      "  Downloading tqdm-4.67.1-py3-none-any.whl.metadata (57 kB)\r\n",
      "Collecting seaborn<0.14,>=0.10.1 (from ydata-profiling)\r\n",
      "  Downloading seaborn-0.13.2-py3-none-any.whl.metadata (5.4 kB)\r\n",
      "Collecting multimethod<2,>=1.4 (from ydata-profiling)\r\n",
      "  Downloading multimethod-1.12-py3-none-any.whl.metadata (9.6 kB)\r\n",
      "Collecting statsmodels<1,>=0.13.2 (from ydata-profiling)\r\n",
      "  Downloading statsmodels-0.14.4-cp39-cp39-macosx_11_0_arm64.whl.metadata (9.2 kB)\r\n",
      "Collecting typeguard<5,>=3 (from ydata-profiling)\r\n",
      "  Downloading typeguard-4.4.2-py3-none-any.whl.metadata (3.8 kB)\r\n",
      "Collecting imagehash==4.3.1 (from ydata-profiling)\r\n",
      "  Downloading ImageHash-4.3.1-py2.py3-none-any.whl.metadata (8.0 kB)\r\n",
      "Collecting wordcloud>=1.9.3 (from ydata-profiling)\r\n",
      "  Downloading wordcloud-1.9.4-cp39-cp39-macosx_11_0_arm64.whl.metadata (3.4 kB)\r\n",
      "Collecting dacite>=1.8 (from ydata-profiling)\r\n",
      "  Downloading dacite-1.9.2-py3-none-any.whl.metadata (17 kB)\r\n",
      "Collecting numba<=0.61,>=0.56.0 (from ydata-profiling)\r\n",
      "  Downloading numba-0.60.0-cp39-cp39-macosx_11_0_arm64.whl.metadata (2.7 kB)\r\n",
      "Collecting PyWavelets (from imagehash==4.3.1->ydata-profiling)\r\n",
      "  Downloading pywavelets-1.6.0-cp39-cp39-macosx_11_0_arm64.whl.metadata (9.0 kB)\r\n",
      "Collecting pillow (from imagehash==4.3.1->ydata-profiling)\r\n",
      "  Downloading pillow-11.2.1-cp39-cp39-macosx_11_0_arm64.whl.metadata (8.9 kB)\r\n",
      "Requirement already satisfied: MarkupSafe>=2.0 in /Users/anitaholubowicz/Library/Python/3.9/lib/python/site-packages (from jinja2<3.2,>=2.11.1->ydata-profiling) (3.0.2)\r\n",
      "Collecting contourpy>=1.0.1 (from matplotlib<=3.10,>=3.5->ydata-profiling)\r\n",
      "  Downloading contourpy-1.3.0-cp39-cp39-macosx_11_0_arm64.whl.metadata (5.4 kB)\r\n",
      "Collecting cycler>=0.10 (from matplotlib<=3.10,>=3.5->ydata-profiling)\r\n",
      "  Downloading cycler-0.12.1-py3-none-any.whl.metadata (3.8 kB)\r\n",
      "Collecting fonttools>=4.22.0 (from matplotlib<=3.10,>=3.5->ydata-profiling)\r\n",
      "  Downloading fonttools-4.57.0-cp39-cp39-macosx_10_9_universal2.whl.metadata (102 kB)\r\n",
      "Collecting kiwisolver>=1.3.1 (from matplotlib<=3.10,>=3.5->ydata-profiling)\r\n",
      "  Downloading kiwisolver-1.4.7-cp39-cp39-macosx_11_0_arm64.whl.metadata (6.3 kB)\r\n",
      "Requirement already satisfied: packaging>=20.0 in /Users/anitaholubowicz/Library/Python/3.9/lib/python/site-packages (from matplotlib<=3.10,>=3.5->ydata-profiling) (23.2)\r\n",
      "Collecting pyparsing>=2.3.1 (from matplotlib<=3.10,>=3.5->ydata-profiling)\r\n",
      "  Downloading pyparsing-3.2.3-py3-none-any.whl.metadata (5.0 kB)\r\n",
      "Requirement already satisfied: python-dateutil>=2.7 in /Users/anitaholubowicz/Library/Python/3.9/lib/python/site-packages (from matplotlib<=3.10,>=3.5->ydata-profiling) (2.9.0.post0)\r\n",
      "Collecting importlib-resources>=3.2.0 (from matplotlib<=3.10,>=3.5->ydata-profiling)\r\n",
      "  Downloading importlib_resources-6.5.2-py3-none-any.whl.metadata (3.9 kB)\r\n",
      "Collecting llvmlite<0.44,>=0.43.0dev0 (from numba<=0.61,>=0.56.0->ydata-profiling)\r\n",
      "  Downloading llvmlite-0.43.0-cp39-cp39-macosx_11_0_arm64.whl.metadata (4.8 kB)\r\n",
      "Requirement already satisfied: pytz>=2020.1 in /Users/anitaholubowicz/Library/Python/3.9/lib/python/site-packages (from pandas!=1.4.0,<3.0,>1.1->ydata-profiling) (2024.1)\r\n",
      "Requirement already satisfied: tzdata>=2022.7 in /Users/anitaholubowicz/Library/Python/3.9/lib/python/site-packages (from pandas!=1.4.0,<3.0,>1.1->ydata-profiling) (2024.1)\r\n",
      "Collecting joblib>=0.14.1 (from phik<0.13,>=0.11.1->ydata-profiling)\r\n",
      "  Downloading joblib-1.5.0-py3-none-any.whl.metadata (5.6 kB)\r\n",
      "Collecting annotated-types>=0.6.0 (from pydantic>=2->ydata-profiling)\r\n",
      "  Downloading annotated_types-0.7.0-py3-none-any.whl.metadata (15 kB)\r\n",
      "Collecting pydantic-core==2.33.2 (from pydantic>=2->ydata-profiling)\r\n",
      "  Downloading pydantic_core-2.33.2-cp39-cp39-macosx_11_0_arm64.whl.metadata (6.8 kB)\r\n",
      "Collecting typing-extensions>=4.12.2 (from pydantic>=2->ydata-profiling)\r\n",
      "  Downloading typing_extensions-4.13.2-py3-none-any.whl.metadata (3.0 kB)\r\n",
      "Collecting typing-inspection>=0.4.0 (from pydantic>=2->ydata-profiling)\r\n",
      "  Downloading typing_inspection-0.4.0-py3-none-any.whl.metadata (2.6 kB)\r\n",
      "Requirement already satisfied: charset-normalizer<4,>=2 in /Users/anitaholubowicz/Library/Python/3.9/lib/python/site-packages (from requests<3,>=2.24.0->ydata-profiling) (3.4.1)\r\n",
      "Requirement already satisfied: idna<4,>=2.5 in /Users/anitaholubowicz/Library/Python/3.9/lib/python/site-packages (from requests<3,>=2.24.0->ydata-profiling) (3.10)\r\n",
      "Requirement already satisfied: urllib3<3,>=1.21.1 in /Users/anitaholubowicz/Library/Python/3.9/lib/python/site-packages (from requests<3,>=2.24.0->ydata-profiling) (2.3.0)\r\n",
      "Requirement already satisfied: certifi>=2017.4.17 in /Users/anitaholubowicz/Library/Python/3.9/lib/python/site-packages (from requests<3,>=2.24.0->ydata-profiling) (2025.1.31)\r\n",
      "Collecting patsy>=0.5.6 (from statsmodels<1,>=0.13.2->ydata-profiling)\r\n",
      "  Downloading patsy-1.0.1-py2.py3-none-any.whl.metadata (3.3 kB)\r\n",
      "Requirement already satisfied: importlib_metadata>=3.6 in /Users/anitaholubowicz/Library/Python/3.9/lib/python/site-packages (from typeguard<5,>=3->ydata-profiling) (7.0.1)\r\n",
      "Requirement already satisfied: attrs>=19.3.0 in /Users/anitaholubowicz/Library/Python/3.9/lib/python/site-packages (from visions<0.8.2,>=0.7.5->visions[type_image_path]<0.8.2,>=0.7.5->ydata-profiling) (25.3.0)\r\n",
      "Collecting networkx>=2.4 (from visions<0.8.2,>=0.7.5->visions[type_image_path]<0.8.2,>=0.7.5->ydata-profiling)\r\n",
      "  Downloading networkx-3.2.1-py3-none-any.whl.metadata (5.2 kB)\r\n",
      "Collecting puremagic (from visions<0.8.2,>=0.7.5->visions[type_image_path]<0.8.2,>=0.7.5->ydata-profiling)\r\n",
      "  Downloading puremagic-1.29-py3-none-any.whl.metadata (5.8 kB)\r\n",
      "Requirement already satisfied: zipp>=0.5 in /Users/anitaholubowicz/Library/Python/3.9/lib/python/site-packages (from importlib_metadata>=3.6->typeguard<5,>=3->ydata-profiling) (3.17.0)\r\n",
      "Requirement already satisfied: six>=1.5 in /Library/Developer/CommandLineTools/Library/Frameworks/Python3.framework/Versions/3.9/lib/python3.9/site-packages (from python-dateutil>=2.7->matplotlib<=3.10,>=3.5->ydata-profiling) (1.15.0)\r\n",
      "Downloading ydata_profiling-4.16.1-py2.py3-none-any.whl (400 kB)\r\n",
      "Downloading ImageHash-4.3.1-py2.py3-none-any.whl (296 kB)\r\n",
      "Downloading dacite-1.9.2-py3-none-any.whl (16 kB)\r\n",
      "Downloading matplotlib-3.9.4-cp39-cp39-macosx_11_0_arm64.whl (7.8 MB)\r\n",
      "\u001B[2K   \u001B[90m━━━━━━━━━━━━━━━━━━━━━━━━━━━━━━━━━━━━━━━━\u001B[0m \u001B[32m7.8/7.8 MB\u001B[0m \u001B[31m3.4 MB/s\u001B[0m eta \u001B[36m0:00:00\u001B[0ma \u001B[36m0:00:01\u001B[0m\r\n",
      "\u001B[?25hDownloading multimethod-1.12-py3-none-any.whl (10 kB)\r\n",
      "Downloading numba-0.60.0-cp39-cp39-macosx_11_0_arm64.whl (2.7 MB)\r\n",
      "\u001B[2K   \u001B[90m━━━━━━━━━━━━━━━━━━━━━━━━━━━━━━━━━━━━━━━━\u001B[0m \u001B[32m2.7/2.7 MB\u001B[0m \u001B[31m4.3 MB/s\u001B[0m eta \u001B[36m0:00:00\u001B[0m00:01\u001B[0m00:01\u001B[0m\r\n",
      "\u001B[?25hDownloading phik-0.12.4-cp39-cp39-macosx_11_0_arm64.whl (655 kB)\r\n",
      "\u001B[2K   \u001B[90m━━━━━━━━━━━━━━━━━━━━━━━━━━━━━━━━━━━━━━━━\u001B[0m \u001B[32m656.0/656.0 kB\u001B[0m \u001B[31m4.4 MB/s\u001B[0m eta \u001B[36m0:00:00\u001B[0m\r\n",
      "\u001B[?25hDownloading pydantic-2.11.4-py3-none-any.whl (443 kB)\r\n",
      "Downloading pydantic_core-2.33.2-cp39-cp39-macosx_11_0_arm64.whl (1.9 MB)\r\n",
      "\u001B[2K   \u001B[90m━━━━━━━━━━━━━━━━━━━━━━━━━━━━━━━━━━━━━━━━\u001B[0m \u001B[32m1.9/1.9 MB\u001B[0m \u001B[31m4.7 MB/s\u001B[0m eta \u001B[36m0:00:00\u001B[0ma \u001B[36m0:00:01\u001B[0m\r\n",
      "\u001B[?25hDownloading scipy-1.13.1-cp39-cp39-macosx_12_0_arm64.whl (30.3 MB)\r\n",
      "\u001B[2K   \u001B[90m━━━━━━━━━━━━━━━━━━━━━━━━━━━━━━━━━━━━━━━━\u001B[0m \u001B[32m30.3/30.3 MB\u001B[0m \u001B[31m2.7 MB/s\u001B[0m eta \u001B[36m0:00:00\u001B[0m00:01\u001B[0m00:01\u001B[0m\r\n",
      "\u001B[?25hDownloading seaborn-0.13.2-py3-none-any.whl (294 kB)\r\n",
      "Downloading statsmodels-0.14.4-cp39-cp39-macosx_11_0_arm64.whl (9.9 MB)\r\n",
      "\u001B[2K   \u001B[90m━━━━━━━━━━━━━━━━━━━━━━━━━━━━━━━━━━━━━━━━\u001B[0m \u001B[32m9.9/9.9 MB\u001B[0m \u001B[31m2.2 MB/s\u001B[0m eta \u001B[36m0:00:00\u001B[0ma \u001B[36m0:00:01\u001B[0m\r\n",
      "\u001B[?25hDownloading tqdm-4.67.1-py3-none-any.whl (78 kB)\r\n",
      "Downloading typeguard-4.4.2-py3-none-any.whl (35 kB)\r\n",
      "Downloading visions-0.8.1-py3-none-any.whl (105 kB)\r\n",
      "Downloading wordcloud-1.9.4-cp39-cp39-macosx_11_0_arm64.whl (168 kB)\r\n",
      "Downloading annotated_types-0.7.0-py3-none-any.whl (13 kB)\r\n",
      "Downloading contourpy-1.3.0-cp39-cp39-macosx_11_0_arm64.whl (249 kB)\r\n",
      "Downloading cycler-0.12.1-py3-none-any.whl (8.3 kB)\r\n",
      "Downloading fonttools-4.57.0-cp39-cp39-macosx_10_9_universal2.whl (2.8 MB)\r\n",
      "\u001B[2K   \u001B[90m━━━━━━━━━━━━━━━━━━━━━━━━━━━━━━━━━━━━━━━━\u001B[0m \u001B[32m2.8/2.8 MB\u001B[0m \u001B[31m3.3 MB/s\u001B[0m eta \u001B[36m0:00:00\u001B[0ma \u001B[36m0:00:01\u001B[0m\r\n",
      "\u001B[?25hDownloading importlib_resources-6.5.2-py3-none-any.whl (37 kB)\r\n",
      "Downloading joblib-1.5.0-py3-none-any.whl (307 kB)\r\n",
      "Downloading kiwisolver-1.4.7-cp39-cp39-macosx_11_0_arm64.whl (64 kB)\r\n",
      "Downloading llvmlite-0.43.0-cp39-cp39-macosx_11_0_arm64.whl (28.8 MB)\r\n",
      "\u001B[2K   \u001B[90m━━━━━━━━━━━━━━━━━━━━━━━━━━━━━━━━━━━━━━━━\u001B[0m \u001B[32m28.8/28.8 MB\u001B[0m \u001B[31m3.1 MB/s\u001B[0m eta \u001B[36m0:00:00\u001B[0m00:01\u001B[0m00:01\u001B[0m\r\n",
      "\u001B[?25hDownloading networkx-3.2.1-py3-none-any.whl (1.6 MB)\r\n",
      "\u001B[2K   \u001B[90m━━━━━━━━━━━━━━━━━━━━━━━━━━━━━━━━━━━━━━━━\u001B[0m \u001B[32m1.6/1.6 MB\u001B[0m \u001B[31m4.8 MB/s\u001B[0m eta \u001B[36m0:00:00\u001B[0ma \u001B[36m0:00:01\u001B[0m\r\n",
      "\u001B[?25hDownloading patsy-1.0.1-py2.py3-none-any.whl (232 kB)\r\n",
      "Downloading pillow-11.2.1-cp39-cp39-macosx_11_0_arm64.whl (3.0 MB)\r\n",
      "\u001B[2K   \u001B[90m━━━━━━━━━━━━━━━━━━━━━━━━━━━━━━━━━━━━━━━━\u001B[0m \u001B[32m3.0/3.0 MB\u001B[0m \u001B[31m2.9 MB/s\u001B[0m eta \u001B[36m0:00:00\u001B[0ma \u001B[36m0:00:01\u001B[0m\r\n",
      "\u001B[?25hDownloading pyparsing-3.2.3-py3-none-any.whl (111 kB)\r\n",
      "Downloading typing_extensions-4.13.2-py3-none-any.whl (45 kB)\r\n",
      "Downloading typing_inspection-0.4.0-py3-none-any.whl (14 kB)\r\n",
      "Downloading puremagic-1.29-py3-none-any.whl (43 kB)\r\n",
      "Downloading pywavelets-1.6.0-cp39-cp39-macosx_11_0_arm64.whl (4.3 MB)\r\n",
      "\u001B[2K   \u001B[90m━━━━━━━━━━━━━━━━━━━━━━━━━━━━━━━━━━━━━━━━\u001B[0m \u001B[32m4.3/4.3 MB\u001B[0m \u001B[31m4.6 MB/s\u001B[0m eta \u001B[36m0:00:00\u001B[0ma \u001B[36m0:00:01\u001B[0m\r\n",
      "\u001B[?25hBuilding wheels for collected packages: htmlmin\r\n",
      "  Building wheel for htmlmin (setup.py) ... \u001B[?25ldone\r\n",
      "\u001B[?25h  Created wheel for htmlmin: filename=htmlmin-0.1.12-py3-none-any.whl size=27098 sha256=1ee4ee389f08be02283ceb125bf8d775ad0cf0acf0988980364b8b207a9dbd57\r\n",
      "  Stored in directory: /Users/anitaholubowicz/Library/Caches/pip/wheels/1d/05/04/c6d7d3b66539d9e659ac6dfe81e2d0fd4c1a8316cc5a403300\r\n",
      "Successfully built htmlmin\r\n",
      "Installing collected packages: puremagic, htmlmin, typing-extensions, tqdm, scipy, PyWavelets, pyparsing, pillow, patsy, networkx, multimethod, llvmlite, kiwisolver, joblib, importlib-resources, fonttools, dacite, cycler, contourpy, annotated-types, typing-inspection, typeguard, pydantic-core, numba, matplotlib, imagehash, wordcloud, visions, statsmodels, seaborn, pydantic, phik, ydata-profiling\r\n",
      "\u001B[33m  WARNING: The script htmlmin is installed in '/Users/anitaholubowicz/Library/Python/3.9/bin' which is not on PATH.\r\n",
      "  Consider adding this directory to PATH or, if you prefer to suppress this warning, use --no-warn-script-location.\r\n",
      "  NOTE: The current PATH contains path(s) starting with `~`, which may not be expanded by all applications.\u001B[0m\u001B[33m\r\n",
      "\u001B[0m  Attempting uninstall: typing-extensions\r\n",
      "    Found existing installation: typing_extensions 4.10.0\r\n",
      "    Uninstalling typing_extensions-4.10.0:\r\n",
      "      Successfully uninstalled typing_extensions-4.10.0\r\n",
      "\u001B[33m  WARNING: The script tqdm is installed in '/Users/anitaholubowicz/Library/Python/3.9/bin' which is not on PATH.\r\n",
      "  Consider adding this directory to PATH or, if you prefer to suppress this warning, use --no-warn-script-location.\r\n",
      "  NOTE: The current PATH contains path(s) starting with `~`, which may not be expanded by all applications.\u001B[0m\u001B[33m\r\n",
      "\u001B[0m\u001B[33m  WARNING: The scripts fonttools, pyftmerge, pyftsubset and ttx are installed in '/Users/anitaholubowicz/Library/Python/3.9/bin' which is not on PATH.\r\n",
      "  Consider adding this directory to PATH or, if you prefer to suppress this warning, use --no-warn-script-location.\r\n",
      "  NOTE: The current PATH contains path(s) starting with `~`, which may not be expanded by all applications.\u001B[0m\u001B[33m\r\n",
      "\u001B[0m\u001B[33m  WARNING: The script wordcloud_cli is installed in '/Users/anitaholubowicz/Library/Python/3.9/bin' which is not on PATH.\r\n",
      "  Consider adding this directory to PATH or, if you prefer to suppress this warning, use --no-warn-script-location.\r\n",
      "  NOTE: The current PATH contains path(s) starting with `~`, which may not be expanded by all applications.\u001B[0m\u001B[33m\r\n",
      "\u001B[0m\u001B[33m  WARNING: The scripts pandas_profiling and ydata_profiling are installed in '/Users/anitaholubowicz/Library/Python/3.9/bin' which is not on PATH.\r\n",
      "  Consider adding this directory to PATH or, if you prefer to suppress this warning, use --no-warn-script-location.\r\n",
      "  NOTE: The current PATH contains path(s) starting with `~`, which may not be expanded by all applications.\u001B[0m\u001B[33m\r\n",
      "\u001B[0mSuccessfully installed PyWavelets-1.6.0 annotated-types-0.7.0 contourpy-1.3.0 cycler-0.12.1 dacite-1.9.2 fonttools-4.57.0 htmlmin-0.1.12 imagehash-4.3.1 importlib-resources-6.5.2 joblib-1.5.0 kiwisolver-1.4.7 llvmlite-0.43.0 matplotlib-3.9.4 multimethod-1.12 networkx-3.2.1 numba-0.60.0 patsy-1.0.1 phik-0.12.4 pillow-11.2.1 puremagic-1.29 pydantic-2.11.4 pydantic-core-2.33.2 pyparsing-3.2.3 scipy-1.13.1 seaborn-0.13.2 statsmodels-0.14.4 tqdm-4.67.1 typeguard-4.4.2 typing-extensions-4.13.2 typing-inspection-0.4.0 visions-0.8.1 wordcloud-1.9.4 ydata-profiling-4.16.1\r\n",
      "\r\n",
      "\u001B[1m[\u001B[0m\u001B[34;49mnotice\u001B[0m\u001B[1;39;49m]\u001B[0m\u001B[39;49m A new release of pip is available: \u001B[0m\u001B[31;49m25.0.1\u001B[0m\u001B[39;49m -> \u001B[0m\u001B[32;49m25.1.1\u001B[0m\r\n",
      "\u001B[1m[\u001B[0m\u001B[34;49mnotice\u001B[0m\u001B[1;39;49m]\u001B[0m\u001B[39;49m To update, run: \u001B[0m\u001B[32;49m/Library/Developer/CommandLineTools/usr/bin/python3 -m pip install --upgrade pip\u001B[0m\r\n",
      "Note: you may need to restart the kernel to use updated packages.\n"
     ]
    }
   ],
   "execution_count": 2
  },
  {
   "metadata": {
    "ExecuteTime": {
     "end_time": "2025-05-08T09:04:54.857368Z",
     "start_time": "2025-05-08T09:04:54.854062Z"
    }
   },
   "cell_type": "code",
   "source": "print(\"XD\")",
   "id": "eff2b8c43675e792",
   "outputs": [
    {
     "name": "stdout",
     "output_type": "stream",
     "text": [
      "XD\n"
     ]
    }
   ],
   "execution_count": 15
  },
  {
   "metadata": {
    "ExecuteTime": {
     "end_time": "2025-05-08T09:05:09.575252Z",
     "start_time": "2025-05-08T09:05:09.566694Z"
    }
   },
   "cell_type": "code",
   "source": "2+2",
   "id": "9aeb9840c2575bae",
   "outputs": [
    {
     "data": {
      "text/plain": [
       "4"
      ]
     },
     "execution_count": 16,
     "metadata": {},
     "output_type": "execute_result"
    }
   ],
   "execution_count": 16
  },
  {
   "metadata": {},
   "cell_type": "code",
   "outputs": [],
   "execution_count": null,
   "source": [
    "import pandas as pd\n",
    "from ydata_profiling import ProfileReport\n",
    "\n",
    "df = pd.read_csv(\"titanic_train.csv\")\n",
    "profile = ProfileReport(df, title=\"Raport Profilowania\", explorative=True)\n",
    "profile.to_file(\"raport.html\")"
   ],
   "id": "9d35e0e635cdf8cc"
  },
  {
   "metadata": {
    "ExecuteTime": {
     "end_time": "2025-05-15T08:07:04.146960Z",
     "start_time": "2025-05-15T08:06:48.719476Z"
    }
   },
   "cell_type": "code",
   "source": [
    "import pandas as pd\n",
    "import ydata_profiling\n",
    "import streamlit as st\n",
    "from streamlit_pandas_profiling import st_profile_report\n",
    "\n",
    "df = pd.read_csv(\"https://raw.githubusercontent.com/datasciencedojo/datasets/master/titanic.csv\")\n",
    "pr = df.profile_report()\n",
    "\n",
    "st.title(\"Profiling in Streamlit\")\n",
    "st.write(df)\n",
    "st_profile_report(pr)\n",
    "\n"
   ],
   "id": "e4842e9ac824a10f",
   "outputs": [
    {
     "name": "stderr",
     "output_type": "stream",
     "text": [
      "2025-05-15 10:06:49.407 WARNING streamlit.runtime.scriptrunner_utils.script_run_context: Thread 'MainThread': missing ScriptRunContext! This warning can be ignored when running in bare mode.\n",
      "2025-05-15 10:06:49.874 WARNING streamlit.runtime.scriptrunner_utils.script_run_context: Thread 'MainThread': missing ScriptRunContext! This warning can be ignored when running in bare mode.\n",
      "2025-05-15 10:06:49.920 \n",
      "  \u001B[33m\u001B[1mWarning:\u001B[0m to view this Streamlit app on a browser, run it with the following\n",
      "  command:\n",
      "\n",
      "    streamlit run /Users/anitaholubowicz/Library/Python/3.9/lib/python/site-packages/ipykernel_launcher.py [ARGUMENTS]\n",
      "2025-05-15 10:06:49.920 Thread 'MainThread': missing ScriptRunContext! This warning can be ignored when running in bare mode.\n",
      "2025-05-15 10:06:49.974 Thread 'MainThread': missing ScriptRunContext! This warning can be ignored when running in bare mode.\n",
      "2025-05-15 10:06:49.974 Thread 'MainThread': missing ScriptRunContext! This warning can be ignored when running in bare mode.\n",
      "2025-05-15 10:06:49.975 Thread 'MainThread': missing ScriptRunContext! This warning can be ignored when running in bare mode.\n",
      "2025-05-15 10:06:49.975 Thread 'MainThread': missing ScriptRunContext! This warning can be ignored when running in bare mode.\n",
      "2025-05-15 10:06:49.976 Thread 'MainThread': missing ScriptRunContext! This warning can be ignored when running in bare mode.\n",
      "Summarize dataset:  47%|████▋     | 8/17 [00:00<00:00, 57.79it/s, Describe variable: Embarked]\n",
      "100%|██████████| 12/12 [00:00<00:00, 598.14it/s]\n",
      "Summarize dataset:  36%|███▋      | 16/44 [00:00<00:00, 46.89it/s, scatter Age, PassengerId]        2025-05-15 10:06:50.480 Thread 'Thread-8': missing ScriptRunContext! This warning can be ignored when running in bare mode.\n",
      "2025-05-15 10:06:50.482 Thread 'Thread-8': missing ScriptRunContext! This warning can be ignored when running in bare mode.\n",
      "Summarize dataset: 100%|██████████| 47/47 [00:05<00:00,  8.39it/s, Completed]                 \n",
      "Generate report structure: 100%|██████████| 1/1 [00:06<00:00,  6.90s/it]\n",
      "Render HTML: 100%|██████████| 1/1 [00:01<00:00,  1.62s/it]\n",
      "2025-05-15 10:07:04.125 Thread 'MainThread': missing ScriptRunContext! This warning can be ignored when running in bare mode.\n",
      "2025-05-15 10:07:04.126 Thread 'MainThread': missing ScriptRunContext! This warning can be ignored when running in bare mode.\n",
      "2025-05-15 10:07:04.141 Thread 'MainThread': missing ScriptRunContext! This warning can be ignored when running in bare mode.\n",
      "2025-05-15 10:07:04.142 Thread 'MainThread': missing ScriptRunContext! This warning can be ignored when running in bare mode.\n",
      "2025-05-15 10:07:04.144 Thread 'MainThread': missing ScriptRunContext! This warning can be ignored when running in bare mode.\n",
      "2025-05-15 10:07:04.144 Thread 'MainThread': missing ScriptRunContext! This warning can be ignored when running in bare mode.\n"
     ]
    }
   ],
   "execution_count": 19
  },
  {
   "metadata": {
    "ExecuteTime": {
     "end_time": "2025-05-15T08:18:25.877754Z",
     "start_time": "2025-05-15T08:18:25.869508Z"
    }
   },
   "cell_type": "code",
   "source": "streamlit run app.py\n",
   "id": "cbf41f674463a819",
   "outputs": [
    {
     "ename": "SyntaxError",
     "evalue": "invalid syntax (3153342883.py, line 1)",
     "output_type": "error",
     "traceback": [
      "\u001B[0;36m  Cell \u001B[0;32mIn[23], line 1\u001B[0;36m\u001B[0m\n\u001B[0;31m    streamlit run app.py\u001B[0m\n\u001B[0m              ^\u001B[0m\n\u001B[0;31mSyntaxError\u001B[0m\u001B[0;31m:\u001B[0m invalid syntax\n"
     ]
    }
   ],
   "execution_count": 23
  },
  {
   "metadata": {
    "ExecuteTime": {
     "end_time": "2025-05-15T08:12:07.863508Z",
     "start_time": "2025-05-15T08:12:07.786753Z"
    }
   },
   "cell_type": "code",
   "source": [
    "import dash\n",
    "from dash import html\n",
    "\n",
    "app = dash.Dash(__name__)\n",
    "\n",
    "app.layout = html.Div(\n",
    "    children=[\n",
    "        html.Iframe(\n",
    "            src=\"assets/census_report.html\",  # must be under assets/ to be properly served\n",
    "            style={\"height\": \"1080px\", \"width\": \"100%\"},\n",
    "        )\n",
    "    ]\n",
    ")\n",
    "\n",
    "if __name__ == \"__main__\":\n",
    "    app.run_server(debug=True)\n"
   ],
   "id": "a72fbce9ac5c647a",
   "outputs": [
    {
     "ename": "ModuleNotFoundError",
     "evalue": "No module named 'dash'",
     "output_type": "error",
     "traceback": [
      "\u001B[0;31m---------------------------------------------------------------------------\u001B[0m",
      "\u001B[0;31mModuleNotFoundError\u001B[0m                       Traceback (most recent call last)",
      "Cell \u001B[0;32mIn[22], line 1\u001B[0m\n\u001B[0;32m----> 1\u001B[0m \u001B[38;5;28;01mimport\u001B[39;00m \u001B[38;5;21;01mdash\u001B[39;00m\n\u001B[1;32m      2\u001B[0m \u001B[38;5;28;01mfrom\u001B[39;00m \u001B[38;5;21;01mdash\u001B[39;00m \u001B[38;5;28;01mimport\u001B[39;00m html\n\u001B[1;32m      4\u001B[0m app \u001B[38;5;241m=\u001B[39m dash\u001B[38;5;241m.\u001B[39mDash(\u001B[38;5;18m__name__\u001B[39m)\n",
      "\u001B[0;31mModuleNotFoundError\u001B[0m: No module named 'dash'"
     ]
    }
   ],
   "execution_count": 22
  }
 ],
 "metadata": {
  "kernelspec": {
   "display_name": "Python 3",
   "language": "python",
   "name": "python3"
  },
  "language_info": {
   "codemirror_mode": {
    "name": "ipython",
    "version": 2
   },
   "file_extension": ".py",
   "mimetype": "text/x-python",
   "name": "python",
   "nbconvert_exporter": "python",
   "pygments_lexer": "ipython2",
   "version": "2.7.6"
  }
 },
 "nbformat": 4,
 "nbformat_minor": 5
}
